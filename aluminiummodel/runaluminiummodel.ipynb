{
 "cells": [
  {
   "cell_type": "code",
   "execution_count": null,
   "id": "23c53993",
   "metadata": {},
   "outputs": [],
   "source": [
    "import numpy as np\n",
    "import pandas as pd\n",
    "import matplotlib.pyplot as plt\n",
    "import random\n",
    "import pymc3 as pm\n",
    "import arviz as az\n",
    "\n",
    "from math import log10, floor\n",
    "\n",
    "useratiodata=1 #1 for Scenario B to incorporate ratio data, 0 otherwise\n",
    "sigmadeterministic=1 #0 to assign Inverse Gamma prior on variance of noise variables, otherwise plug in estimates will be used. "
   ]
  },
  {
   "cell_type": "code",
   "execution_count": null,
   "id": "afbca3d5",
   "metadata": {},
   "outputs": [],
   "source": [
    "dataflows = pd.read_csv(\"data/aluminiumflow.txt\",comment='#')\n",
    "datastocks = pd.read_csv(\"data/aluminiumstock.txt\",comment='#')\n",
    "\n",
    "from preprocessingagg import preprocessing, createdesignmatrix, createratiomatrix, createcompactmatrix, createcompactratiomatrix\n",
    "from prior import round_to_poweroften, definepriors\n",
    "from model import mfamodel\n",
    "from posteriorpredictive import filelabeler, ppplots, ppplotsratiodata, top10hdi\n",
    "\n",
    "availabledatafull, dataparentstockneededcols, dataparentflowsneededcols, processnamesdict, allflownumbersmatrix, m, N=preprocessing(datastocks,dataflows)\n",
    "\n",
    "#construct the prior\n",
    "\n",
    "dataflowspriors = pd.read_csv(\"data/aluminiumflowsprior.txt\",comment='#')\n",
    "datastockspriors = pd.read_csv(\"data/aluminiumstocksprior.txt\",comment='#')\n",
    "\n",
    "\n",
    "priormean,covariancevec,truevalues=definepriors(datastockspriors, dataflowspriors, availabledatafull, m, N)\n",
    "\n",
    "#construct design matrix\n",
    "\n",
    "designmatrix,datavector,availablechildstocksandflows,zerostocksandflows,stockindex,flowindex,CoMindex=createdesignmatrix(availabledatafull, dataparentstockneededcols, dataparentflowsneededcols, m, N)\n",
    "\n",
    "#construct matrices for flow ratio data\n",
    "\n",
    "dataratios = pd.read_csv(\"data/aluminiumratio.txt\",comment='#')\n",
    "ratiovector,ratiomatrixtop,ratiomatrixbottom,availablechildstocksandflows=createratiomatrix(dataratios, m, N, availablechildstocksandflows)\n",
    "\n",
    "\n",
    "#set function assures uniqueness of the variables selected\n",
    "availablechildstocksandflows=sorted(list(set(availablechildstocksandflows)))\n",
    "\n",
    "zerostocksandflows=sorted(list(set(zerostocksandflows)))\n",
    "\n",
    "availablechildstocksandflows = [x for x in availablechildstocksandflows if x not in zerostocksandflows]\n",
    "\n",
    "\n",
    "availablechildstocks = [i for i in availablechildstocksandflows if i < m]\n",
    "availablechildflows = [i for i in availablechildstocksandflows if i >= m]\n",
    "\n",
    "availablechildstocksnames=[processnamesdict[str(x)] for x in availablechildstocks]\n",
    "\n",
    "#subset of designmatrix for stocks and flows which actually exist in the system/are non zero.\n",
    "designmatrixcompact,designmatrixstockscompact,designmatrixflowscompact=createcompactmatrix(designmatrix,availablechildstocksandflows,m)\n",
    "\n",
    "ratiomatrixtopstockscompact,ratiomatrixtopflowscompact,ratiomatrixbottomstockscompact,ratiomatrixbottomflowscompact=createcompactratiomatrix(ratiomatrixtop,ratiomatrixbottom,availablechildstocksandflows,m)\n",
    "\n",
    "priormeancompact = priormean[availablechildstocksandflows]\n",
    "covarianceveccompact = covariancevec[availablechildstocksandflows]\n",
    "priorcovariancecompact = np.diag(covarianceveccompact)\n",
    "\n",
    "truevaluescompact=truevalues[availablechildstocksandflows]   "
   ]
  },
  {
   "cell_type": "code",
   "execution_count": null,
   "id": "aab00eac",
   "metadata": {},
   "outputs": [],
   "source": [
    "#run the Bayesian model\n",
    "\n",
    "trace, model=mfamodel(priormean, covariancevec, designmatrix,ratiomatrixtop, \\\n",
    "                   ratiomatrixbottom, datavector, ratiovector, availablechildstocksandflows, m, \\\n",
    "                   stockindex, flowindex, CoMindex,useratiodata,sigmadeterministic)"
   ]
  },
  {
   "cell_type": "code",
   "execution_count": null,
   "id": "f0da0719",
   "metadata": {},
   "outputs": [],
   "source": [
    "#summary of samples including rhat values for each posterior variable\n",
    "\n",
    "az.summary(trace).round(2)"
   ]
  },
  {
   "cell_type": "code",
   "execution_count": null,
   "id": "af46fd74",
   "metadata": {},
   "outputs": [],
   "source": [
    "#generate traceplots for the change in stock variables\n",
    "\n",
    "labels=[processnamesdict[str(x)] for x in availablechildstocks]\n",
    "\n",
    "import arviz.labels as azl\n",
    "\n",
    "plt.tight_layout()\n",
    "for i in range(0,len(labels)):\n",
    "    \n",
    "    labeller = azl.MapLabeller(var_name_map={\"stocks\": r\"Stock\"+\":\"+labels[i]})\n",
    "    \n",
    "    posteriorstocktraceplots=az.plot_trace(trace, var_names=\"stocks\",compact=True,show=True,backend=\"matplotlib\", coords={'stocks_dim_0': [i]},labeller=labeller,legend=True,chain_prop={\"color\": ['r', 'b']})\n",
    "\n",
    "    posteriorstocktraceplots[0,0].get_figure().savefig(\"outputgraphstrace\"+filelabeler(useratiodata)+\"/\"+\"Stocktrace\"+\"_\"+labels[i]+filelabeler(useratiodata)+\".pdf\")"
   ]
  },
  {
   "cell_type": "code",
   "execution_count": null,
   "id": "e52f29bc",
   "metadata": {},
   "outputs": [],
   "source": [
    "#generate traceplots for the flow variables\n",
    "\n",
    "az.rcParams[\"plot.max_subplots\"] = 400 #this increases the maximum plots displayed, default is 40.\n",
    "#There are around 200 posterior flow plots so without this you only plot the first 40. \n",
    "\n",
    "plt.tight_layout()\n",
    "\n",
    "\n",
    "for i in range(0, len(availablechildflows)):\n",
    "    relevantrow=np.where(allflownumbersmatrix[:, 0] == str(availablechildflows[i]))\n",
    "    relevantrow=relevantrow[0][0]\n",
    "    flownumberfrom=allflownumbersmatrix[relevantrow, 1]\n",
    "    flownumberto=allflownumbersmatrix[relevantrow, 2]\n",
    "    \n",
    "    labeller = azl.MapLabeller(var_name_map={\"flows\": processnamesdict[str(flownumberfrom)]+\"_to_\"+processnamesdict[str(flownumberto)]})\n",
    "    posteriorflowtraceplots=az.plot_trace(trace, var_names=\"flows\",compact=True,show=True,backend=\"matplotlib\", coords={'flows_dim_0': [i]},labeller=labeller,legend=True,chain_prop={\"color\": ['r', 'b']})\n",
    "\n",
    "    posteriorflowtraceplots[0,0].get_figure().savefig(\"outputgraphstrace\"+filelabeler(useratiodata)+\"/\"+\"Flowtrace\"+processnamesdict[str(flownumberfrom)]+\"_to_\"+processnamesdict[str(flownumberto)]+filelabeler(useratiodata)+\".pdf\")"
   ]
  },
  {
   "cell_type": "code",
   "execution_count": null,
   "id": "0f1de460",
   "metadata": {
    "scrolled": false
   },
   "outputs": [],
   "source": [
    "#plot marginal posterior distribution for change in stock variables\n",
    "\n",
    "labels=[processnamesdict[str(x)] for x in availablechildstocks]\n",
    "\n",
    "    \n",
    "for i in range(0,len(labels)):\n",
    "    posteriorstockplots=az.plot_posterior(trace, var_names=\"stocks\",show=False,backend=\"matplotlib\",round_to=3, hdi_prob=0.95,  coords={'stocks_dim_0': [i]}, textsize=16,figsize=[9.6, 2.4])\n",
    "    posteriorstockplots.title.set_text(\"Stock\"+\":\"+labels[i]) \n",
    "    plt.axvline(x=truevalues[availablechildstocks][i], color=\"red\")\n",
    "    posteriorstockplots.get_figure().savefig(\"outputgraphs\"+filelabeler(useratiodata)+\"/\"+\"Stock\"+\"_\"+labels[i]+filelabeler(useratiodata)+\".pdf\")"
   ]
  },
  {
   "cell_type": "code",
   "execution_count": null,
   "id": "ef43827a",
   "metadata": {},
   "outputs": [],
   "source": [
    "#plot marginal posterior distribution for flow variables\n",
    "\n",
    "az.rcParams[\"plot.max_subplots\"] = 400 #this increases the maximum plots displayed, default is 40.\n",
    "#There are around 200 posterior flow plots so without this you only plot the first 40. \n",
    "\n",
    "for i in range(0, len(availablechildflows)):\n",
    "    relevantrow=np.where(allflownumbersmatrix[:, 0] == str(availablechildflows[i]))\n",
    "    relevantrow=relevantrow[0][0]\n",
    "    flownumberfrom=allflownumbersmatrix[relevantrow, 1]\n",
    "    flownumberto=allflownumbersmatrix[relevantrow, 2]\n",
    "    posteriorflowplots=az.plot_posterior(trace, var_names=\"flows\",show=False,backend=\"matplotlib\", round_to=3, hdi_prob=0.95,coords={'flows_dim_0': [i]}, textsize=16, figsize=[9.6, 2.4])\n",
    "    \n",
    "    plt.axvline(x=truevalues[availablechildflows][i], color=\"red\")\n",
    "    posteriorflowplots.title.set_text(processnamesdict[str(flownumberfrom)]+\" to \"+processnamesdict[str(flownumberto)])\n",
    "    posteriorflowplots.get_figure().savefig(\"outputgraphs\"+filelabeler(useratiodata)+\"/\"+processnamesdict[str(flownumberfrom)]+\"_to_\"+processnamesdict[str(flownumberto)]+filelabeler(useratiodata)+\".pdf\")\n"
   ]
  },
  {
   "cell_type": "code",
   "execution_count": null,
   "id": "6d2f54ab",
   "metadata": {},
   "outputs": [],
   "source": [
    "#posterior predictive samples\n",
    "\n",
    "posterior_pred=pm.sample_posterior_predictive(trace=trace, model=model, random_seed=123456)"
   ]
  },
  {
   "cell_type": "code",
   "execution_count": null,
   "id": "082f5b17",
   "metadata": {},
   "outputs": [],
   "source": [
    "#plot posterior predictive 95% HDI and p values, for flow and change in stock data, and CoM conditions.\n",
    "\n",
    "ppplots(posterior_pred,datavector,stockindex,flowindex,CoMindex,useratiodata)"
   ]
  },
  {
   "cell_type": "code",
   "execution_count": null,
   "id": "84d211f0",
   "metadata": {},
   "outputs": [],
   "source": [
    "#plot posterior predictive 95% HDI and p values, for ratio data, scenario B only.\n",
    "\n",
    "ppplotsratiodata(posterior_pred,ratiovector,useratiodata)"
   ]
  },
  {
   "cell_type": "code",
   "execution_count": null,
   "id": "cbc5c016",
   "metadata": {},
   "outputs": [],
   "source": [
    "#plot top 10 widths of marginal posterior 95% HDI\n",
    "\n",
    "ci_95_length=top10hdi(trace,processnamesdict,availablechildstocksandflows,useratiodata,m)"
   ]
  },
  {
   "cell_type": "code",
   "execution_count": null,
   "id": "c32cdd61",
   "metadata": {},
   "outputs": [],
   "source": [
    "print(np.mean(ci_95_length))\n",
    "print(np.max(ci_95_length))\n",
    "print(np.min(ci_95_length))\n",
    "print(np.shape(ci_95_length))"
   ]
  },
  {
   "cell_type": "code",
   "execution_count": null,
   "id": "0791ec1c",
   "metadata": {},
   "outputs": [],
   "source": [
    "trace.to_netcdf(\"model\"+filelabeler(useratiodata)+\".nc\")"
   ]
  },
  {
   "cell_type": "code",
   "execution_count": null,
   "id": "7a4d889d",
   "metadata": {},
   "outputs": [],
   "source": [
    "print(\"model\"+filelabeler(useratiodata)+\".nc\")\n",
    "trace = az.from_netcdf(\"model\"+filelabeler(useratiodata)+\".nc\")"
   ]
  },
  {
   "cell_type": "code",
   "execution_count": null,
   "id": "2e88a5b1",
   "metadata": {},
   "outputs": [],
   "source": []
  }
 ],
 "metadata": {
  "kernelspec": {
   "display_name": "Python 3 (ipykernel)",
   "language": "python",
   "name": "python3"
  },
  "language_info": {
   "codemirror_mode": {
    "name": "ipython",
    "version": 3
   },
   "file_extension": ".py",
   "mimetype": "text/x-python",
   "name": "python",
   "nbconvert_exporter": "python",
   "pygments_lexer": "ipython3",
   "version": "3.10.4"
  }
 },
 "nbformat": 4,
 "nbformat_minor": 5
}
